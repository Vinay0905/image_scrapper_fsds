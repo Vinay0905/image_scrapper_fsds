{
 "cells": [
  {
   "cell_type": "code",
   "execution_count": 1,
   "id": "d71f7959-b8aa-4e63-b803-0789cb9f0de7",
   "metadata": {},
   "outputs": [],
   "source": [
    "import requests\n",
    "import logging\n",
    "import os\n",
    "from bs4 import BeautifulSoup\n",
    "from urllib.request import urlopen"
   ]
  },
  {
   "cell_type": "code",
   "execution_count": 2,
   "id": "0c6a6a64-cfa4-4296-9cf4-20405ec09614",
   "metadata": {},
   "outputs": [],
   "source": [
    "save_dir=\"images/\"\n",
    "if not os.path.exists(save_dir):\n",
    "    os.makedirs(save_dir)"
   ]
  },
  {
   "cell_type": "code",
   "execution_count": 9,
   "id": "07f9c9dd-8292-4d23-81bd-13af26e52879",
   "metadata": {},
   "outputs": [],
   "source": [
    "query=\"Elon Musk\"\n",
    "#url=https://www.google.com/search?q=query&sxsrf=AB5stBj267NGzGKU21Rbs23bSY-9oTNJUA:1691728216741&q=elonmusk&tbm=isch&source=lnms&sa=X&ved=2ahUKEwj076jb4tOAAxV0xzgGHTKGD7EQ0pQJegQIEBAB&biw=1920&bih=941"
   ]
  },
  {
   "cell_type": "code",
   "execution_count": 10,
   "id": "e67ba3db-5954-4d60-a37f-5d729d5cb986",
   "metadata": {},
   "outputs": [],
   "source": [
    "response=requests.get(f\"https://www.google.com/search?sca_esv=555768166&sxsrf=AB5stBj267NGzGKU21Rbs23bSY-9oTNJUA:1691728216741&q=query&tbm=isch&source=lnms&sa=X&ved=2ahUKEwj076jb4tOAAxV0xzgGHTKGD7EQ0pQJegQIEBAB&biw=1920&bih=941#imgrc=j66zmxxPjf2shM\")"
   ]
  },
  {
   "cell_type": "code",
   "execution_count": 11,
   "id": "960643f4-9c81-4438-a504-58ab6033431b",
   "metadata": {},
   "outputs": [
    {
     "data": {
      "text/plain": [
       "<Response [200]>"
      ]
     },
     "execution_count": 11,
     "metadata": {},
     "output_type": "execute_result"
    }
   ],
   "source": [
    "response\n"
   ]
  },
  {
   "cell_type": "code",
   "execution_count": 14,
   "id": "143a5593-d8cd-4737-9ab8-e04d431b44ed",
   "metadata": {},
   "outputs": [],
   "source": [
    "soup=BeautifulSoup(response.content,\"html.parser\")"
   ]
  },
  {
   "cell_type": "code",
   "execution_count": 15,
   "id": "a5fd4eb2-283b-4b62-9872-476af7ac16f8",
   "metadata": {},
   "outputs": [
    {
     "data": {
      "text/plain": [
       "<!DOCTYPE html PUBLIC \"-//WAPFORUM//DTD XHTML Mobile 1.0//EN\" \"http://www.wapforum.org/DTD/xhtml-mobile10.dtd\">\n",
       "<html lang=\"en-IN\" xmlns=\"http://www.w3.org/1999/xhtml\"><head><meta content=\"application/xhtml+xml; charset=utf-8\" http-equiv=\"Content-Type\"/><meta content=\"no-cache\" name=\"Cache-Control\"/><title>query - Google Search</title><style>a{text-decoration:none;color:inherit}a:hover{text-decoration:underline}a img{border:0}body{font-family:arial,sans-serif;padding:8px;margin:0 auto;max-width:700px;min-width:240px;}.FbhRzb{border-left:thin solid #dadce0;border-right:thin solid #dadce0;border-top:thin solid #dadce0;height:40px;overflow:hidden}.n692Zd{margin-bottom:10px}.cvifge{height:40px;border-spacing:0}.QvGUP{height:40px;padding:0 8px 0 8px;vertical-align:top}.O4cRJf{height:40px;width:100%;padding:0;padding-right:16px}.O1ePr{height:40px;padding:0;vertical-align:top}.kgJEQe{height:36px;width:98px;vertical-align:top;margin-top:4px}.lXLRf{vertical-align:top}.MhzMZd{border:0;vertical-align:middle;font-size:14px;height:40px;padding:0;width:100%;padding-left:16px}.xB0fq{height:40px;border:none;font-size:14px;background-color:#1a73e8;color:#fff;padding:0 16px;margin:0;vertical-align:top;cursor:pointer}.xB0fq:focus{border:1px solid #1a73e8}.M7pB2{border:thin solid #dadce0;margin:0 0 3px 0;font-size:13px;font-weight:500;height:40px}.euZec{width:100%;height:40px;text-align:center;border-spacing:0}table.euZec td{padding:0;width:25%}.QIqI7{display:inline-block;padding-top:4px;font-weight:bold;color:#4285f4}.EY24We{border-bottom:2px solid #4285f4}.CsQyDc{display:inline-block;color:#70757a}.TuS8Ad{font-size:14px}.HddGcc{padding:8px;color:#70757a}.dzp8ae{font-weight:bold;color:#3c4043}.rEM8G{color:#70757a}.bookcf{table-layout:fixed;width:100%;border-spacing:0}.InWNIe{text-align:center}.uZgmoc{border:thin solid #dadce0;color:#70757a;font-size:14px;text-align:center;table-layout:fixed;width:100%}.frGj1b{display:block;padding:12px 0 12px 0;width:100%}.BnJWBc{text-align:center;padding:6px 0 13px 0;height:35px}.e3goi{vertical-align:top;padding:0;height:180px}.GpQGbf{margin:auto;border-collapse:collapse;border-spacing:0;width:100%}</style></head><body><style>.X6ZCif{color:#202124;font-size:11px;line-height:16px;display:inline-block;padding-top:2px;overflow:hidden;padding-bottom:4px;width:100%}.TwVfHd{border-radius:16px;border:thin solid #dadce0;display:inline-block;padding:8px 8px;margin-right:8px;margin-bottom:4px}.yekiAe{background-color:#dadce0}.mnTahd{width:100%}.ezO2md{border:thin solid #dadce0;padding:12px 16px 12px 16px;margin-bottom:10px;font-family:arial,sans-serif}.lIMUZd{font-family:arial,sans-serif}.IkMU6e{border-spacing:0}.SjCsie{width:100%}.EnarA{text-align:center}.NZWO1b{width:162px;height:140px;line-height:140px;overflow:'hidden';text-align:center}.yWs4tf{text-align:center;margin:auto;vertical-align:middle;max-width:162px;max-height:140px}.jB2rPd{padding-top:2px;padding-bottom:8px;}.fYyStc{word-break:break-word}.ynsChf{display:block;white-space:nowrap;overflow:hidden;text-overflow:ellipsis}.Fj3V3b{color:#1967d2;font-size:14px;line-height:20px}.FrIlee{color:#202124;font-size:11px;line-height:16px}.F9iS2e{color:#70757a;font-size:11px;line-height:16px}.WMQ2Le{color:#70757a;font-size:12px;line-height:16px}.x3G5ab{color:#202124;font-size:12px;line-height:16px}.fuLhoc{color:#1967d2;font-size:16px;line-height:20px}.epoveb{font-size:24px;line-height:28px;font-weight:400;color:#202124}.dXDvrc{color:#0d652d;font-size:14px;line-height:20px;word-wrap:break-word}.dloBPe{font-weight:bold}.YVIcad{color:#70757a}.JkVVdd{color:#ea4335}.oXZRFd{color:#ea4335}.MQHtg{color:#fbbc04}.pyMRrb{color:#1e8e3e}.EtTZid{color:#1e8e3e}.M3vVJe{color:#1967d2}.qXLe6d{display:block}.NHQNef{font-style:italic}.Cb8Z7c{white-space:pre}a.ZWRArf{text-decoration:none}a .CVA68e:hover{text-decoration:underline}</style><div class=\"n692Zd\"><div class=\"BnJWBc\"><a class=\"lXLRf\" href=\"/?sa=X&amp;sca_esv=555768166&amp;biw=1920&amp;bih=941&amp;output=images&amp;ie=UTF-8&amp;tbm=isch&amp;ved=0ahUKEwin17bg5NOAAxUdT2wGHUiuBp8QPAgC\"><img alt=\"Google\" class=\"kgJEQe\" src=\"/images/branding/searchlogo/1x/googlelogo_desk_heirloom_color_150x55dp.gif\"/></a></div><div class=\"FbhRzb\"><form action=\"/search\"><input name=\"sca_esv\" type=\"hidden\" value=\"555768166\"/><input name=\"biw\" type=\"hidden\" value=\"1920\"/><input name=\"bih\" type=\"hidden\" value=\"941\"/><input name=\"ie\" type=\"hidden\" value=\"ISO-8859-1\"/><input name=\"tbm\" type=\"hidden\" value=\"isch\"/><input name=\"oq\" type=\"hidden\"/><input name=\"aqs\" type=\"hidden\"/><table class=\"cvifge\"><tr><td class=\"O4cRJf\"><input class=\"MhzMZd\" name=\"q\" type=\"text\" value=\"query\"/></td><td class=\"O1ePr\"><input class=\"xB0fq\" type=\"submit\" value=\"Search\"/></td></tr></table></form></div><div class=\"M7pB2\"><table class=\"euZec\"><tbody><tr><td><a class=\"CsQyDc\" href=\"/search?q=query&amp;sca_esv=555768166&amp;biw=1920&amp;bih=941&amp;ie=UTF-8&amp;source=lnms&amp;sa=X&amp;ved=0ahUKEwin17bg5NOAAxUdT2wGHUiuBp8Q_AUIBCgA\">ALL</a></td><td><a class=\"CsQyDc\" href=\"/search?q=query&amp;sca_esv=555768166&amp;biw=1920&amp;bih=941&amp;ie=UTF-8&amp;tbm=vid&amp;source=lnms&amp;sa=X&amp;ved=0ahUKEwin17bg5NOAAxUdT2wGHUiuBp8Q_AUIBSgB\">VIDEOS</a></td><td class=\"EY24We\"><span class=\"QIqI7\">IMAGES</span></td><td><a class=\"CsQyDc\" href=\"/search?q=query&amp;sca_esv=555768166&amp;biw=1920&amp;bih=941&amp;ie=UTF-8&amp;tbm=bks&amp;source=lnms&amp;sa=X&amp;ved=0ahUKEwin17bg5NOAAxUdT2wGHUiuBp8Q_AUIBygD\">BOOKS</a></td></tr></tbody></table></div></div><div class=\"X6ZCif\"><a class=\"TwVfHd\" href=\"/search?sca_esv=555768166&amp;biw=1920&amp;bih=941&amp;ie=UTF-8&amp;tbm=isch&amp;q=query&amp;chips=q:query,g_1:icon&amp;sa=X&amp;ved=0ahUKEwin17bg5NOAAxUdT2wGHUiuBp8Q4lYICygA\">icon</a><a class=\"TwVfHd\" href=\"/search?sca_esv=555768166&amp;biw=1920&amp;bih=941&amp;ie=UTF-8&amp;tbm=isch&amp;q=query&amp;chips=q:query,g_1:database&amp;sa=X&amp;ved=0ahUKEwin17bg5NOAAxUdT2wGHUiuBp8Q4lYIDCgB\">database</a><a class=\"TwVfHd\" href=\"/search?sca_esv=555768166&amp;biw=1920&amp;bih=941&amp;ie=UTF-8&amp;tbm=isch&amp;q=query&amp;chips=q:query,g_1:clipart&amp;sa=X&amp;ved=0ahUKEwin17bg5NOAAxUdT2wGHUiuBp8Q4lYIDSgC\">clipart</a><a class=\"TwVfHd\" href=\"/search?sca_esv=555768166&amp;biw=1920&amp;bih=941&amp;ie=UTF-8&amp;tbm=isch&amp;q=query&amp;chips=q:query,g_1:question&amp;sa=X&amp;ved=0ahUKEwin17bg5NOAAxUdT2wGHUiuBp8Q4lYIDigD\">question</a><a class=\"TwVfHd\" href=\"/search?sca_esv=555768166&amp;biw=1920&amp;bih=941&amp;ie=UTF-8&amp;tbm=isch&amp;q=query&amp;chips=q:query,g_1:access&amp;sa=X&amp;ved=0ahUKEwin17bg5NOAAxUdT2wGHUiuBp8Q4lYIDygE\">access</a><a class=\"TwVfHd\" href=\"/search?sca_esv=555768166&amp;biw=1920&amp;bih=941&amp;ie=UTF-8&amp;tbm=isch&amp;q=query&amp;chips=q:query,g_1:sql&amp;sa=X&amp;ved=0ahUKEwin17bg5NOAAxUdT2wGHUiuBp8Q4lYIECgF\">sql</a><a class=\"TwVfHd\" href=\"/search?sca_esv=555768166&amp;biw=1920&amp;bih=941&amp;ie=UTF-8&amp;tbm=isch&amp;q=query&amp;chips=q:query,g_1:ppt&amp;sa=X&amp;ved=0ahUKEwin17bg5NOAAxUdT2wGHUiuBp8Q4lYIESgG\">ppt</a><a class=\"TwVfHd\" href=\"/search?sca_esv=555768166&amp;biw=1920&amp;bih=941&amp;ie=UTF-8&amp;tbm=isch&amp;q=query&amp;chips=q:query,g_1:excel&amp;sa=X&amp;ved=0ahUKEwin17bg5NOAAxUdT2wGHUiuBp8Q4lYIEigH\">excel</a><a class=\"TwVfHd\" href=\"/search?sca_esv=555768166&amp;biw=1920&amp;bih=941&amp;ie=UTF-8&amp;tbm=isch&amp;q=query&amp;chips=q:query,g_1:animated&amp;sa=X&amp;ved=0ahUKEwin17bg5NOAAxUdT2wGHUiuBp8Q4lYIEygI\">animated</a><a class=\"TwVfHd\" href=\"/search?sca_esv=555768166&amp;biw=1920&amp;bih=941&amp;ie=UTF-8&amp;tbm=isch&amp;q=query&amp;chips=q:query,g_1:mysql&amp;sa=X&amp;ved=0ahUKEwin17bg5NOAAxUdT2wGHUiuBp8Q4lYIFCgJ\">mysql</a></div><div><table class=\"GpQGbf\"><tr><td align=\"center\" class=\"e3goi\"><div class=\"mnTahd\"> <div> <div class=\"lIMUZd\"><div><table class=\"IkMU6e\"><tr><td><a href=\"/url?q=https://www.percona.com/blog/asynchronous-query-execution-mysql-5-7-x-plugin/&amp;sa=U&amp;ved=2ahUKEwin17bg5NOAAxUdT2wGHUiuBp8QqoUBegQIBhAB&amp;usg=AOvVaw20GyXemSJRkmVloQqGT5Ur\"><div class=\"NZWO1b\"><img alt=\"\" class=\"yWs4tf\" src=\"https://encrypted-tbn0.gstatic.com/images?q=tbn:ANd9GcRqCBr7wnAh08aMOHlUh5eQSDQJqcUZBGsZ3Gws9bLv8yr6dSExK5OsU1BcGQ&amp;s\"/></div></a></td></tr><tr><td><a href=\"/url?q=https://www.percona.com/blog/asynchronous-query-execution-mysql-5-7-x-plugin/&amp;sa=U&amp;ved=2ahUKEwin17bg5NOAAxUdT2wGHUiuBp8Qr4kDegQIBhAC&amp;usg=AOvVaw3xGjgzou3cP8VSQVDxJdLG\"><div class=\"jB2rPd\"> <span class=\"qXLe6d x3G5ab\"> <span class=\"fYyStc\">Asynchronous Query...</span> </span> <span class=\"qXLe6d F9iS2e\"> <span class=\"fYyStc\">www.percona.com</span> </span> </div></a></td></tr></table></div></div> </div> </div></td><td align=\"center\" class=\"e3goi\"><div class=\"mnTahd\"> <div> <div class=\"lIMUZd\"><div><table class=\"IkMU6e\"><tr><td><a href=\"/url?q=https://learn.microsoft.com/en-us/power-query/query-folding-basics&amp;sa=U&amp;ved=2ahUKEwin17bg5NOAAxUdT2wGHUiuBp8QqoUBegQIExAB&amp;usg=AOvVaw0B84WtZ13MeStoHoyYj-1_\"><div class=\"NZWO1b\"><img alt=\"\" class=\"yWs4tf\" src=\"https://encrypted-tbn0.gstatic.com/images?q=tbn:ANd9GcQgeKwO0k8vQKqDlBTMFNvvAWWNQdmuOOfr_jHjMCWTyflevZ1EhMe5Cyi-NA&amp;s\"/></div></a></td></tr><tr><td><a href=\"/url?q=https://learn.microsoft.com/en-us/power-query/query-folding-basics&amp;sa=U&amp;ved=2ahUKEwin17bg5NOAAxUdT2wGHUiuBp8Qr4kDegQIExAC&amp;usg=AOvVaw2lYYdHfP9oM7xC97BqCGYv\"><div class=\"jB2rPd\"> <span class=\"qXLe6d x3G5ab\"> <span class=\"fYyStc\">Understanding query...</span> </span> <span class=\"qXLe6d F9iS2e\"> <span class=\"fYyStc\">learn.microsoft.com</span> </span> </div></a></td></tr></table></div></div> </div> </div></td><td align=\"center\" class=\"e3goi\"><div class=\"mnTahd\"> <div> <div class=\"lIMUZd\"><div><table class=\"IkMU6e\"><tr><td><a href=\"/url?q=https://www.sqlshack.com/learn-to-write-basic-sql-queries/&amp;sa=U&amp;ved=2ahUKEwin17bg5NOAAxUdT2wGHUiuBp8QqoUBegQIEhAB&amp;usg=AOvVaw3FKLazX96odJwN3NEmMCpD\"><div class=\"NZWO1b\"><img alt=\"\" class=\"yWs4tf\" src=\"https://encrypted-tbn0.gstatic.com/images?q=tbn:ANd9GcTLYMMzXgLOjysMHPwQuvwP-rlctC0WTm46uX7JPW0N3HgpMboaO57Ze8cj5KY&amp;s\"/></div></a></td></tr><tr><td><a href=\"/url?q=https://www.sqlshack.com/learn-to-write-basic-sql-queries/&amp;sa=U&amp;ved=2ahUKEwin17bg5NOAAxUdT2wGHUiuBp8Qr4kDegQIEhAC&amp;usg=AOvVaw0Q_0NYut04XW0xZ7vIXGG_\"><div class=\"jB2rPd\"> <span class=\"qXLe6d x3G5ab\"> <span class=\"fYyStc\">Learn to write basic SQL...</span> </span> <span class=\"qXLe6d F9iS2e\"> <span class=\"fYyStc\">www.sqlshack.com</span> </span> </div></a></td></tr></table></div></div> </div> </div></td><td align=\"center\" class=\"e3goi\"><div class=\"mnTahd\"> <div> <div class=\"lIMUZd\"><div><table class=\"IkMU6e\"><tr><td><a href=\"/url?q=https://www.educative.io/blog/what-is-database-query-sql-nosql&amp;sa=U&amp;ved=2ahUKEwin17bg5NOAAxUdT2wGHUiuBp8QqoUBegQICxAB&amp;usg=AOvVaw2SV5uRsf_87VzotMi7j5yI\"><div class=\"NZWO1b\"><img alt=\"\" class=\"yWs4tf\" src=\"https://encrypted-tbn0.gstatic.com/images?q=tbn:ANd9GcT1hx_p94bzcaeQbRCuu8VoZY2OjJe3HH8qZawg9wfN4BY6A4wcXF0SJfl2PA&amp;s\"/></div></a></td></tr><tr><td><a href=\"/url?q=https://www.educative.io/blog/what-is-database-query-sql-nosql&amp;sa=U&amp;ved=2ahUKEwin17bg5NOAAxUdT2wGHUiuBp8Qr4kDegQICxAC&amp;usg=AOvVaw3DEhggZJRZfrhIQrT6j9-j\"><div class=\"jB2rPd\"> <span class=\"qXLe6d x3G5ab\"> <span class=\"fYyStc\">What is a database query?...</span> </span> <span class=\"qXLe6d F9iS2e\"> <span class=\"fYyStc\">www.educative.io</span> </span> </div></a></td></tr></table></div></div> </div> </div></td></tr><tr><td align=\"center\" class=\"e3goi\"><div class=\"mnTahd\"> <div> <div class=\"lIMUZd\"><div><table class=\"IkMU6e\"><tr><td><a href=\"/url?q=https://www.techtarget.com/searchdatamanagement/definition/query&amp;sa=U&amp;ved=2ahUKEwin17bg5NOAAxUdT2wGHUiuBp8QqoUBegQIChAB&amp;usg=AOvVaw3U95mzak436xcKLqyIkNpF\"><div class=\"NZWO1b\"><img alt=\"\" class=\"yWs4tf\" src=\"https://encrypted-tbn0.gstatic.com/images?q=tbn:ANd9GcR3ymkdcLRAhGbBJeWqiCH1f2bjDHSqU2i-mAhJ4mYXjfpq_X-sXblHiNrM5w&amp;s\"/></div></a></td></tr><tr><td><a href=\"/url?q=https://www.techtarget.com/searchdatamanagement/definition/query&amp;sa=U&amp;ved=2ahUKEwin17bg5NOAAxUdT2wGHUiuBp8Qr4kDegQIChAC&amp;usg=AOvVaw3RCBxD4LdkS2ScNQy6M9WB\"><div class=\"jB2rPd\"> <span class=\"qXLe6d x3G5ab\"> <span class=\"fYyStc\">What is a query? Explore...</span> </span> <span class=\"qXLe6d F9iS2e\"> <span class=\"fYyStc\">www.techtarget.com</span> </span> </div></a></td></tr></table></div></div> </div> </div></td><td align=\"center\" class=\"e3goi\"><div class=\"mnTahd\"> <div> <div class=\"lIMUZd\"><div><table class=\"IkMU6e\"><tr><td><a href=\"/url?q=https://www.hostinger.com/tutorials/what-is-a-query&amp;sa=U&amp;ved=2ahUKEwin17bg5NOAAxUdT2wGHUiuBp8QqoUBegQIDxAB&amp;usg=AOvVaw3EPJm9b-UB7Pf5qOUJdNDF\"><div class=\"NZWO1b\"><img alt=\"\" class=\"yWs4tf\" src=\"https://encrypted-tbn0.gstatic.com/images?q=tbn:ANd9GcRAm0Yd2HugQd2FefPhjlwvqlqZ2smr2BOpGNfVkv0C4rbl1gzgJ5Re5P-kGfU&amp;s\"/></div></a></td></tr><tr><td><a href=\"/url?q=https://www.hostinger.com/tutorials/what-is-a-query&amp;sa=U&amp;ved=2ahUKEwin17bg5NOAAxUdT2wGHUiuBp8Qr4kDegQIDxAC&amp;usg=AOvVaw0P4IT6S9mE0LadqAd8PKyj\"><div class=\"jB2rPd\"> <span class=\"qXLe6d x3G5ab\"> <span class=\"fYyStc\">What Is a Query? Database...</span> </span> <span class=\"qXLe6d F9iS2e\"> <span class=\"fYyStc\">www.hostinger.com</span> </span> </div></a></td></tr></table></div></div> </div> </div></td><td align=\"center\" class=\"e3goi\"><div class=\"mnTahd\"> <div> <div class=\"lIMUZd\"><div><table class=\"IkMU6e\"><tr><td><a href=\"/url?q=https://drill.apache.org/docs/query-data-introduction/&amp;sa=U&amp;ved=2ahUKEwin17bg5NOAAxUdT2wGHUiuBp8QqoUBegQIERAB&amp;usg=AOvVaw0YeEsmf4JEdKVOS9pq2s3S\"><div class=\"NZWO1b\"><img alt=\"\" class=\"yWs4tf\" src=\"https://encrypted-tbn0.gstatic.com/images?q=tbn:ANd9GcRykdkZEK62QHbWEai7c3M6EBhcJSChUxUs6GzjzWuajAHsNWsJC_Iytrh1hlQ&amp;s\"/></div></a></td></tr><tr><td><a href=\"/url?q=https://drill.apache.org/docs/query-data-introduction/&amp;sa=U&amp;ved=2ahUKEwin17bg5NOAAxUdT2wGHUiuBp8Qr4kDegQIERAC&amp;usg=AOvVaw1jApU9IiMJDIghvbkRZY26\"><div class=\"jB2rPd\"> <span class=\"qXLe6d x3G5ab\"> <span class=\"fYyStc\">Query Data Introduction -...</span> </span> <span class=\"qXLe6d F9iS2e\"> <span class=\"fYyStc\">drill.apache.org</span> </span> </div></a></td></tr></table></div></div> </div> </div></td><td align=\"center\" class=\"e3goi\"><div class=\"mnTahd\"> <div> <div class=\"lIMUZd\"><div><table class=\"IkMU6e\"><tr><td><a href=\"/url?q=https://www.arimetrics.com/en/digital-glossary/query&amp;sa=U&amp;ved=2ahUKEwin17bg5NOAAxUdT2wGHUiuBp8QqoUBegQIDhAB&amp;usg=AOvVaw2JA5iXNV4u5kEa03WVEH5j\"><div class=\"NZWO1b\"><img alt=\"\" class=\"yWs4tf\" src=\"https://encrypted-tbn0.gstatic.com/images?q=tbn:ANd9GcRBUYGt6CCvSkjgAD8rClK1-PxSoWqnjDd_WeMO_xUmeRQ6OK8QbAJvP7NRXQ&amp;s\"/></div></a></td></tr><tr><td><a href=\"/url?q=https://www.arimetrics.com/en/digital-glossary/query&amp;sa=U&amp;ved=2ahUKEwin17bg5NOAAxUdT2wGHUiuBp8Qr4kDegQIDhAC&amp;usg=AOvVaw0bd_KmRhfHoyPFUI5tjw5m\"><div class=\"jB2rPd\"> <span class=\"qXLe6d x3G5ab\"> <span class=\"fYyStc\">What is a Query -...</span> </span> <span class=\"qXLe6d F9iS2e\"> <span class=\"fYyStc\">www.arimetrics.com</span> </span> </div></a></td></tr></table></div></div> </div> </div></td></tr><tr><td align=\"center\" class=\"e3goi\"><div class=\"mnTahd\"> <div> <div class=\"lIMUZd\"><div><table class=\"IkMU6e\"><tr><td><a href=\"/url?q=https://www.computerhope.com/jargon/q/query.htm&amp;sa=U&amp;ved=2ahUKEwin17bg5NOAAxUdT2wGHUiuBp8QqoUBegQICRAB&amp;usg=AOvVaw32yH_0jGLB5PXLNC1Z-OA8\"><div class=\"NZWO1b\"><img alt=\"\" class=\"yWs4tf\" src=\"https://encrypted-tbn0.gstatic.com/images?q=tbn:ANd9GcTTheiMrWBm4WzFCxsffKjBi8PAcZSLB2RSedZRj-Z0xqdFwmW2GHiem_5opW4&amp;s\"/></div></a></td></tr><tr><td><a href=\"/url?q=https://www.computerhope.com/jargon/q/query.htm&amp;sa=U&amp;ved=2ahUKEwin17bg5NOAAxUdT2wGHUiuBp8Qr4kDegQICRAC&amp;usg=AOvVaw0QlDahLm14A-XWGCmwQ91X\"><div class=\"jB2rPd\"> <span class=\"qXLe6d x3G5ab\"> <span class=\"fYyStc\">What is a Query?</span> </span> <span class=\"qXLe6d F9iS2e\"> <span class=\"fYyStc\">www.computerhope.com</span> </span> </div></a></td></tr></table></div></div> </div> </div></td><td align=\"center\" class=\"e3goi\"><div class=\"mnTahd\"> <div> <div class=\"lIMUZd\"><div><table class=\"IkMU6e\"><tr><td><a href=\"/url?q=https://learn.microsoft.com/en-us/power-query/share-query&amp;sa=U&amp;ved=2ahUKEwin17bg5NOAAxUdT2wGHUiuBp8QqoUBegQIEBAB&amp;usg=AOvVaw3z6mR4o_t6J37NfLnHAsy-\"><div class=\"NZWO1b\"><img alt=\"\" class=\"yWs4tf\" src=\"https://encrypted-tbn0.gstatic.com/images?q=tbn:ANd9GcT5OWLx5sRR0gocKH-EhwyTeb6ozfpnQgAVelSkwkCcm9IJGatwsQFbK_k_sg&amp;s\"/></div></a></td></tr><tr><td><a href=\"/url?q=https://learn.microsoft.com/en-us/power-query/share-query&amp;sa=U&amp;ved=2ahUKEwin17bg5NOAAxUdT2wGHUiuBp8Qr4kDegQIEBAC&amp;usg=AOvVaw0vmjcVTWj1a8zDQW54DQd6\"><div class=\"jB2rPd\"> <span class=\"qXLe6d x3G5ab\"> <span class=\"fYyStc\">Share a query - Power Query...</span> </span> <span class=\"qXLe6d F9iS2e\"> <span class=\"fYyStc\">learn.microsoft.com</span> </span> </div></a></td></tr></table></div></div> </div> </div></td><td align=\"center\" class=\"e3goi\"><div class=\"mnTahd\"> <div> <div class=\"lIMUZd\"><div><table class=\"IkMU6e\"><tr><td><a href=\"/url?q=https://www.youtube.com/watch%3Fv%3DNqjfQswuBug&amp;sa=U&amp;ved=2ahUKEwin17bg5NOAAxUdT2wGHUiuBp8QqoUBegQIDBAB&amp;usg=AOvVaw3mciIdHAc0HL4j_h4ZfzIG\"><div class=\"NZWO1b\"><img alt=\"\" class=\"yWs4tf\" src=\"https://encrypted-tbn0.gstatic.com/images?q=tbn:ANd9GcQ6MwAa-GC7xUXqL9Kb8gzRSF-cYsfFEhqbuieHsn45qWt9a_Y20HPcWklkQdk&amp;s\"/></div></a></td></tr><tr><td><a href=\"/url?q=https://www.youtube.com/watch%3Fv%3DNqjfQswuBug&amp;sa=U&amp;ved=2ahUKEwin17bg5NOAAxUdT2wGHUiuBp8Qr4kDegQIDBAC&amp;usg=AOvVaw3ubIdpcC0x9_KbsQUIxehz\"><div class=\"jB2rPd\"> <span class=\"qXLe6d x3G5ab\"> <span class=\"fYyStc\">What Is a Query | Explained...</span> </span> <span class=\"qXLe6d F9iS2e\"> <span class=\"fYyStc\">www.youtube.com</span> </span> </div></a></td></tr></table></div></div> </div> </div></td><td align=\"center\" class=\"e3goi\"><div class=\"mnTahd\"> <div> <div class=\"lIMUZd\"><div><table class=\"IkMU6e\"><tr><td><a href=\"/url?q=https://www.wallstreetmojo.com/power-query-in-excel/&amp;sa=U&amp;ved=2ahUKEwin17bg5NOAAxUdT2wGHUiuBp8QqoUBegQIDRAB&amp;usg=AOvVaw1Rhfah06EJuUa3l41lXsoU\"><div class=\"NZWO1b\"><img alt=\"\" class=\"yWs4tf\" src=\"https://encrypted-tbn0.gstatic.com/images?q=tbn:ANd9GcSKSZnnYWheITD2kZNX3os3L9ffZSntRUu7622wX8v1Y5Q0r-pZoP6F1WUulsQ&amp;s\"/></div></a></td></tr><tr><td><a href=\"/url?q=https://www.wallstreetmojo.com/power-query-in-excel/&amp;sa=U&amp;ved=2ahUKEwin17bg5NOAAxUdT2wGHUiuBp8Qr4kDegQIDRAC&amp;usg=AOvVaw2YcBMidlygtiHTBDxvv1On\"><div class=\"jB2rPd\"> <span class=\"qXLe6d x3G5ab\"> <span class=\"fYyStc\">Power Query in Excel -...</span> </span> <span class=\"qXLe6d F9iS2e\"> <span class=\"fYyStc\">www.wallstreetmojo.com</span> </span> </div></a></td></tr></table></div></div> </div> </div></td></tr><tr><td align=\"center\" class=\"e3goi\"><div class=\"mnTahd\"> <div> <div class=\"lIMUZd\"><div><table class=\"IkMU6e\"><tr><td><a href=\"/url?q=https://www.sqlmanager.net/products/tools/querybuilder&amp;sa=U&amp;ved=2ahUKEwin17bg5NOAAxUdT2wGHUiuBp8QqoUBegQIBBAB&amp;usg=AOvVaw1n9XZAmFaOTqjR_5uk6rS0\"><div class=\"NZWO1b\"><img alt=\"\" class=\"yWs4tf\" src=\"https://encrypted-tbn0.gstatic.com/images?q=tbn:ANd9GcSPWFThk6jJBU3IjhyNX7aQBtRz4z5S-PcUhMtfSPFUD0bpmI7shZweow37IQ&amp;s\"/></div></a></td></tr><tr><td><a href=\"/url?q=https://www.sqlmanager.net/products/tools/querybuilder&amp;sa=U&amp;ved=2ahUKEwin17bg5NOAAxUdT2wGHUiuBp8Qr4kDegQIBBAC&amp;usg=AOvVaw0OVjcarKX3YsDDoAevI3z_\"><div class=\"jB2rPd\"> <span class=\"qXLe6d x3G5ab\"> <span class=\"fYyStc\">Advanced Query Builder for...</span> </span> <span class=\"qXLe6d F9iS2e\"> <span class=\"fYyStc\">www.sqlmanager.net</span> </span> </div></a></td></tr></table></div></div> </div> </div></td><td align=\"center\" class=\"e3goi\"><div class=\"mnTahd\"> <div> <div class=\"lIMUZd\"><div><table class=\"IkMU6e\"><tr><td><a href=\"/url?q=https://www.query.ai/&amp;sa=U&amp;ved=2ahUKEwin17bg5NOAAxUdT2wGHUiuBp8QqoUBegQICBAB&amp;usg=AOvVaw3RjAPXOD_JMz0Z-AetqxvG\"><div class=\"NZWO1b\"><img alt=\"\" class=\"yWs4tf\" src=\"https://encrypted-tbn0.gstatic.com/images?q=tbn:ANd9GcReOBuoiCYyK6cDGwBQhWHa7ukIl8RxohD1c0B3vhhl1uKSwVuYHe6hkBSi0A&amp;s\"/></div></a></td></tr><tr><td><a href=\"/url?q=https://www.query.ai/&amp;sa=U&amp;ved=2ahUKEwin17bg5NOAAxUdT2wGHUiuBp8Qr4kDegQICBAC&amp;usg=AOvVaw0hxzvX2Hs_30CQGJitbVwW\"><div class=\"jB2rPd\"> <span class=\"qXLe6d x3G5ab\"> <span class=\"fYyStc\">Home - Query</span> </span> <span class=\"qXLe6d F9iS2e\"> <span class=\"fYyStc\">www.query.ai</span> </span> </div></a></td></tr></table></div></div> </div> </div></td><td align=\"center\" class=\"e3goi\"><div class=\"mnTahd\"> <div> <div class=\"lIMUZd\"><div><table class=\"IkMU6e\"><tr><td><a href=\"/url?q=https://www.sqlshack.com/learn-sql-sql-query-examples/&amp;sa=U&amp;ved=2ahUKEwin17bg5NOAAxUdT2wGHUiuBp8QqoUBegQIBRAB&amp;usg=AOvVaw1gFMUJaLg7eLTRniitLyej\"><div class=\"NZWO1b\"><img alt=\"\" class=\"yWs4tf\" src=\"https://encrypted-tbn0.gstatic.com/images?q=tbn:ANd9GcQUHeIiLLhEKyXM91-jb-HAhgNR7sOiIZFzA2CPXX_qVhujTS_Nhbp7qGNZ5g&amp;s\"/></div></a></td></tr><tr><td><a href=\"/url?q=https://www.sqlshack.com/learn-sql-sql-query-examples/&amp;sa=U&amp;ved=2ahUKEwin17bg5NOAAxUdT2wGHUiuBp8Qr4kDegQIBRAC&amp;usg=AOvVaw1LLTsEDTZ8yxfyjsPg_LyE\"><div class=\"jB2rPd\"> <span class=\"qXLe6d x3G5ab\"> <span class=\"fYyStc\">Learn SQL: SQL Query...</span> </span> <span class=\"qXLe6d F9iS2e\"> <span class=\"fYyStc\">www.sqlshack.com</span> </span> </div></a></td></tr></table></div></div> </div> </div></td><td align=\"center\" class=\"e3goi\"><div class=\"mnTahd\"> <div> <div class=\"lIMUZd\"><div><table class=\"IkMU6e\"><tr><td><a href=\"/url?q=https://docs.inductiveautomation.com/display/DOC79/Database%2BQuery%2BBrowser&amp;sa=U&amp;ved=2ahUKEwin17bg5NOAAxUdT2wGHUiuBp8QqoUBegQIABAB&amp;usg=AOvVaw3ZHv2qW7vH29CKb3LuV99W\"><div class=\"NZWO1b\"><img alt=\"\" class=\"yWs4tf\" src=\"https://encrypted-tbn0.gstatic.com/images?q=tbn:ANd9GcQM_ICkhQBnmoQJTJXKjjXXFSbVqNNrjcLcizshUroVckdGaPgbWSdfWry0oQc&amp;s\"/></div></a></td></tr><tr><td><a href=\"/url?q=https://docs.inductiveautomation.com/display/DOC79/Database%2BQuery%2BBrowser&amp;sa=U&amp;ved=2ahUKEwin17bg5NOAAxUdT2wGHUiuBp8Qr4kDegQIABAC&amp;usg=AOvVaw048GQtD0857Szp65FSUB5p\"><div class=\"jB2rPd\"> <span class=\"qXLe6d x3G5ab\"> <span class=\"fYyStc\">Database Query Browser -...</span> </span> <span class=\"qXLe6d F9iS2e\"> <span class=\"fYyStc\">docs.inductiveautomation.co...</span> </span> </div></a></td></tr></table></div></div> </div> </div></td></tr><tr><td align=\"center\" class=\"e3goi\"><div class=\"mnTahd\"> <div> <div class=\"lIMUZd\"><div><table class=\"IkMU6e\"><tr><td><a href=\"/url?q=https://www.ge.com/digital/documentation/meridium/V36000/WebHelp/mergedProjects/WebHelp_Master/mergedProjects/APMFoundation/About_the_Query_Design.htm&amp;sa=U&amp;ved=2ahUKEwin17bg5NOAAxUdT2wGHUiuBp8QqoUBegQIBxAB&amp;usg=AOvVaw2Q9KEapxpp8zaaNG22jiv-\"><div class=\"NZWO1b\"><img alt=\"\" class=\"yWs4tf\" src=\"https://encrypted-tbn0.gstatic.com/images?q=tbn:ANd9GcTknNv2CvE8ugs9k55FoXeHvnz5unRLZTjXcn49ndXuuoOtyXo5mWRN2iFhRg&amp;s\"/></div></a></td></tr><tr><td><a href=\"/url?q=https://www.ge.com/digital/documentation/meridium/V36000/WebHelp/mergedProjects/WebHelp_Master/mergedProjects/APMFoundation/About_the_Query_Design.htm&amp;sa=U&amp;ved=2ahUKEwin17bg5NOAAxUdT2wGHUiuBp8Qr4kDegQIBxAC&amp;usg=AOvVaw0hOx5s5BARoGpxvblscrr6\"><div class=\"jB2rPd\"> <span class=\"qXLe6d x3G5ab\"> <span class=\"fYyStc\">The Query Design</span> </span> <span class=\"qXLe6d F9iS2e\"> <span class=\"fYyStc\">www.ge.com</span> </span> </div></a></td></tr></table></div></div> </div> </div></td><td align=\"center\" class=\"e3goi\"><div class=\"mnTahd\"> <div> <div class=\"lIMUZd\"><div><table class=\"IkMU6e\"><tr><td><a href=\"/url?q=https://manifold.net/doc/mfd9/queries.htm&amp;sa=U&amp;ved=2ahUKEwin17bg5NOAAxUdT2wGHUiuBp8QqoUBegQIARAB&amp;usg=AOvVaw3FHTkAVA07rlDHUrfx_aYv\"><div class=\"NZWO1b\"><img alt=\"\" class=\"yWs4tf\" src=\"https://encrypted-tbn0.gstatic.com/images?q=tbn:ANd9GcRym2z6cP8ntDpGPNDX6S3rFVeWbQDqs84VI5Q4LzPrUdTqOlZWJU87DnJilQ&amp;s\"/></div></a></td></tr><tr><td><a href=\"/url?q=https://manifold.net/doc/mfd9/queries.htm&amp;sa=U&amp;ved=2ahUKEwin17bg5NOAAxUdT2wGHUiuBp8Qr4kDegQIARAC&amp;usg=AOvVaw3B6uSn0h8GD4WJpEI6i7j4\"><div class=\"jB2rPd\"> <span class=\"qXLe6d x3G5ab\"> <span class=\"fYyStc\">Queries</span> </span> <span class=\"qXLe6d F9iS2e\"> <span class=\"fYyStc\">manifold.net</span> </span> </div></a></td></tr></table></div></div> </div> </div></td><td align=\"center\" class=\"e3goi\"><div class=\"mnTahd\"> <div> <div class=\"lIMUZd\"><div><table class=\"IkMU6e\"><tr><td><a href=\"/url?q=https://www.teachucomp.com/run-a-query-in-access-instructions/&amp;sa=U&amp;ved=2ahUKEwin17bg5NOAAxUdT2wGHUiuBp8QqoUBegQIAhAB&amp;usg=AOvVaw26U3_gXXRNQxg2OVf6qCOE\"><div class=\"NZWO1b\"><img alt=\"\" class=\"yWs4tf\" src=\"https://encrypted-tbn0.gstatic.com/images?q=tbn:ANd9GcQVGPVj5P-wNmaz6ho7z2QFOjxXWgTx5NusQ5K215k0NrdC0fOovitwoX9lubs&amp;s\"/></div></a></td></tr><tr><td><a href=\"/url?q=https://www.teachucomp.com/run-a-query-in-access-instructions/&amp;sa=U&amp;ved=2ahUKEwin17bg5NOAAxUdT2wGHUiuBp8Qr4kDegQIAhAC&amp;usg=AOvVaw0E21bKJ5ziZIVCZ0-5E8j3\"><div class=\"jB2rPd\"> <span class=\"qXLe6d x3G5ab\"> <span class=\"fYyStc\">Run a Query in Access -...</span> </span> <span class=\"qXLe6d F9iS2e\"> <span class=\"fYyStc\">www.teachucomp.com</span> </span> </div></a></td></tr></table></div></div> </div> </div></td><td align=\"center\" class=\"e3goi\"><div class=\"mnTahd\"> <div> <div class=\"lIMUZd\"><div><table class=\"IkMU6e\"><tr><td><a href=\"/url?q=https://www.metabase.com/docs/latest/questions/native-editor/writing-sql&amp;sa=U&amp;ved=2ahUKEwin17bg5NOAAxUdT2wGHUiuBp8QqoUBegQIAxAB&amp;usg=AOvVaw2iN_AD05eD6dsxhzbwAfqj\"><div class=\"NZWO1b\"><img alt=\"\" class=\"yWs4tf\" src=\"https://encrypted-tbn0.gstatic.com/images?q=tbn:ANd9GcRbzNjN0rvRgHU1mjql6QhP5c1VI5OTLAwwa9Z3icjA3AcOghXlD7RipA-ILw&amp;s\"/></div></a></td></tr><tr><td><a href=\"/url?q=https://www.metabase.com/docs/latest/questions/native-editor/writing-sql&amp;sa=U&amp;ved=2ahUKEwin17bg5NOAAxUdT2wGHUiuBp8Qr4kDegQIAxAC&amp;usg=AOvVaw2LYkU9lu4SAHeUVHOc9-Kk\"><div class=\"jB2rPd\"> <span class=\"qXLe6d x3G5ab\"> <span class=\"fYyStc\">The SQL editor</span> </span> <span class=\"qXLe6d F9iS2e\"> <span class=\"fYyStc\">www.metabase.com</span> </span> </div></a></td></tr></table></div></div> </div> </div></td></tr></table></div><table class=\"uZgmoc\"><tbody><td><a class=\"frGj1b\" href=\"/search?q=query&amp;sca_esv=555768166&amp;biw=1920&amp;bih=941&amp;ie=UTF-8&amp;tbm=isch&amp;ei=fLvVZKepE52eseMPyNya-Ak&amp;start=20&amp;sa=N\">Next &gt;</a></td></tbody></table><br/><div class=\"TuS8Ad\" data-ved=\"0ahUKEwin17bg5NOAAxUdT2wGHUiuBp8QpyoIUg\"><style>.VYM29{font-weight:bold}</style><div align=\"center\" class=\"HddGcc\"><span class=\"VYM29\">Chennai, Tamil Nadu</span><span> - </span><span>From your IP address</span><span> - </span><a href=\"/url?q=https://support.google.com/websearch%3Fp%3Dws_settings_location%26hl%3Den-IN&amp;sa=U&amp;ved=0ahUKEwin17bg5NOAAxUdT2wGHUiuBp8Qty4IUw&amp;usg=AOvVaw0LxGvZtNlNU6-DitgdZDAr\">Learn more</a></div><div align=\"center\"><a class=\"rEM8G\" href=\"/url?q=https://accounts.google.com/ServiceLogin%3Fcontinue%3Dhttps://www.google.com/search%253Fsca_esv%253D555768166%2526sxsrf%253DAB5stBj267NGzGKU21Rbs23bSY-9oTNJUA:1691728216741%2526q%253Dquery%2526tbm%253Disch%2526source%253Dlnms%2526sa%253DX%2526ved%253D2ahUKEwj076jb4tOAAxV0xzgGHTKGD7EQ0pQJegQIEBAB%2526biw%253D1920%2526bih%253D941%26hl%3Den&amp;sa=U&amp;ved=0ahUKEwin17bg5NOAAxUdT2wGHUiuBp8Qxs8CCFQ&amp;usg=AOvVaw0AdxpszPa2XKo2Bw4O-x89\">Sign in</a></div><div><table class=\"bookcf\"><tbody class=\"InWNIe\"><tr><td><a class=\"rEM8G\" href=\"https://www.google.com/preferences?hl=en&amp;sa=X&amp;ved=0ahUKEwin17bg5NOAAxUdT2wGHUiuBp8Qv5YECFU\">Settings</a></td><td><a class=\"rEM8G\" href=\"https://www.google.com/intl/en_in/policies/privacy/\">Privacy</a></td><td><a class=\"rEM8G\" href=\"https://www.google.com/intl/en_in/policies/terms/\">Terms</a></td></tr></tbody></table></div></div><div> </div></body></html>"
      ]
     },
     "execution_count": 15,
     "metadata": {},
     "output_type": "execute_result"
    }
   ],
   "source": [
    "soup"
   ]
  },
  {
   "cell_type": "code",
   "execution_count": 17,
   "id": "43d4f5af-be24-45df-822a-6050e5bdab4c",
   "metadata": {},
   "outputs": [],
   "source": [
    "img_tags=soup.find_all(\"img\")"
   ]
  },
  {
   "cell_type": "code",
   "execution_count": 19,
   "id": "e40915f7-fbbc-43f2-a1c0-7d3b031c757d",
   "metadata": {},
   "outputs": [],
   "source": [
    "del img_tags[0]\n"
   ]
  },
  {
   "cell_type": "code",
   "execution_count": 20,
   "id": "d393e33d-3eaf-4afd-9fc4-a91c74d455e8",
   "metadata": {},
   "outputs": [
    {
     "data": {
      "text/plain": [
       "[<img alt=\"\" class=\"yWs4tf\" src=\"https://encrypted-tbn0.gstatic.com/images?q=tbn:ANd9GcRqCBr7wnAh08aMOHlUh5eQSDQJqcUZBGsZ3Gws9bLv8yr6dSExK5OsU1BcGQ&amp;s\"/>,\n",
       " <img alt=\"\" class=\"yWs4tf\" src=\"https://encrypted-tbn0.gstatic.com/images?q=tbn:ANd9GcQgeKwO0k8vQKqDlBTMFNvvAWWNQdmuOOfr_jHjMCWTyflevZ1EhMe5Cyi-NA&amp;s\"/>,\n",
       " <img alt=\"\" class=\"yWs4tf\" src=\"https://encrypted-tbn0.gstatic.com/images?q=tbn:ANd9GcTLYMMzXgLOjysMHPwQuvwP-rlctC0WTm46uX7JPW0N3HgpMboaO57Ze8cj5KY&amp;s\"/>,\n",
       " <img alt=\"\" class=\"yWs4tf\" src=\"https://encrypted-tbn0.gstatic.com/images?q=tbn:ANd9GcT1hx_p94bzcaeQbRCuu8VoZY2OjJe3HH8qZawg9wfN4BY6A4wcXF0SJfl2PA&amp;s\"/>,\n",
       " <img alt=\"\" class=\"yWs4tf\" src=\"https://encrypted-tbn0.gstatic.com/images?q=tbn:ANd9GcR3ymkdcLRAhGbBJeWqiCH1f2bjDHSqU2i-mAhJ4mYXjfpq_X-sXblHiNrM5w&amp;s\"/>,\n",
       " <img alt=\"\" class=\"yWs4tf\" src=\"https://encrypted-tbn0.gstatic.com/images?q=tbn:ANd9GcRAm0Yd2HugQd2FefPhjlwvqlqZ2smr2BOpGNfVkv0C4rbl1gzgJ5Re5P-kGfU&amp;s\"/>,\n",
       " <img alt=\"\" class=\"yWs4tf\" src=\"https://encrypted-tbn0.gstatic.com/images?q=tbn:ANd9GcRykdkZEK62QHbWEai7c3M6EBhcJSChUxUs6GzjzWuajAHsNWsJC_Iytrh1hlQ&amp;s\"/>,\n",
       " <img alt=\"\" class=\"yWs4tf\" src=\"https://encrypted-tbn0.gstatic.com/images?q=tbn:ANd9GcRBUYGt6CCvSkjgAD8rClK1-PxSoWqnjDd_WeMO_xUmeRQ6OK8QbAJvP7NRXQ&amp;s\"/>,\n",
       " <img alt=\"\" class=\"yWs4tf\" src=\"https://encrypted-tbn0.gstatic.com/images?q=tbn:ANd9GcTTheiMrWBm4WzFCxsffKjBi8PAcZSLB2RSedZRj-Z0xqdFwmW2GHiem_5opW4&amp;s\"/>,\n",
       " <img alt=\"\" class=\"yWs4tf\" src=\"https://encrypted-tbn0.gstatic.com/images?q=tbn:ANd9GcT5OWLx5sRR0gocKH-EhwyTeb6ozfpnQgAVelSkwkCcm9IJGatwsQFbK_k_sg&amp;s\"/>,\n",
       " <img alt=\"\" class=\"yWs4tf\" src=\"https://encrypted-tbn0.gstatic.com/images?q=tbn:ANd9GcQ6MwAa-GC7xUXqL9Kb8gzRSF-cYsfFEhqbuieHsn45qWt9a_Y20HPcWklkQdk&amp;s\"/>,\n",
       " <img alt=\"\" class=\"yWs4tf\" src=\"https://encrypted-tbn0.gstatic.com/images?q=tbn:ANd9GcSKSZnnYWheITD2kZNX3os3L9ffZSntRUu7622wX8v1Y5Q0r-pZoP6F1WUulsQ&amp;s\"/>,\n",
       " <img alt=\"\" class=\"yWs4tf\" src=\"https://encrypted-tbn0.gstatic.com/images?q=tbn:ANd9GcSPWFThk6jJBU3IjhyNX7aQBtRz4z5S-PcUhMtfSPFUD0bpmI7shZweow37IQ&amp;s\"/>,\n",
       " <img alt=\"\" class=\"yWs4tf\" src=\"https://encrypted-tbn0.gstatic.com/images?q=tbn:ANd9GcReOBuoiCYyK6cDGwBQhWHa7ukIl8RxohD1c0B3vhhl1uKSwVuYHe6hkBSi0A&amp;s\"/>,\n",
       " <img alt=\"\" class=\"yWs4tf\" src=\"https://encrypted-tbn0.gstatic.com/images?q=tbn:ANd9GcQUHeIiLLhEKyXM91-jb-HAhgNR7sOiIZFzA2CPXX_qVhujTS_Nhbp7qGNZ5g&amp;s\"/>,\n",
       " <img alt=\"\" class=\"yWs4tf\" src=\"https://encrypted-tbn0.gstatic.com/images?q=tbn:ANd9GcQM_ICkhQBnmoQJTJXKjjXXFSbVqNNrjcLcizshUroVckdGaPgbWSdfWry0oQc&amp;s\"/>,\n",
       " <img alt=\"\" class=\"yWs4tf\" src=\"https://encrypted-tbn0.gstatic.com/images?q=tbn:ANd9GcTknNv2CvE8ugs9k55FoXeHvnz5unRLZTjXcn49ndXuuoOtyXo5mWRN2iFhRg&amp;s\"/>,\n",
       " <img alt=\"\" class=\"yWs4tf\" src=\"https://encrypted-tbn0.gstatic.com/images?q=tbn:ANd9GcRym2z6cP8ntDpGPNDX6S3rFVeWbQDqs84VI5Q4LzPrUdTqOlZWJU87DnJilQ&amp;s\"/>,\n",
       " <img alt=\"\" class=\"yWs4tf\" src=\"https://encrypted-tbn0.gstatic.com/images?q=tbn:ANd9GcQVGPVj5P-wNmaz6ho7z2QFOjxXWgTx5NusQ5K215k0NrdC0fOovitwoX9lubs&amp;s\"/>,\n",
       " <img alt=\"\" class=\"yWs4tf\" src=\"https://encrypted-tbn0.gstatic.com/images?q=tbn:ANd9GcRbzNjN0rvRgHU1mjql6QhP5c1VI5OTLAwwa9Z3icjA3AcOghXlD7RipA-ILw&amp;s\"/>]"
      ]
     },
     "execution_count": 20,
     "metadata": {},
     "output_type": "execute_result"
    }
   ],
   "source": [
    "img_tags"
   ]
  },
  {
   "cell_type": "code",
   "execution_count": 21,
   "id": "5aec8cd4-2c18-4a30-ae34-063942c84c12",
   "metadata": {},
   "outputs": [
    {
     "data": {
      "text/plain": [
       "20"
      ]
     },
     "execution_count": 21,
     "metadata": {},
     "output_type": "execute_result"
    }
   ],
   "source": [
    "len(img_tags)\n"
   ]
  },
  {
   "cell_type": "code",
   "execution_count": 25,
   "id": "44da0dcf-f9c8-4441-9b1e-b113bce06a5f",
   "metadata": {},
   "outputs": [
    {
     "data": {
      "text/plain": [
       "<Response [200]>"
      ]
     },
     "execution_count": 25,
     "metadata": {},
     "output_type": "execute_result"
    }
   ],
   "source": [
    "requests.get(\"https://encrypted-tbn0.gstatic.com/images?q=tbn:ANd9GcRqCBr7wnAh08aMOHlUh5eQSDQJqcUZBGsZ3Gws9bLv8yr6dSExK5OsU1BcGQ&s\")"
   ]
  },
  {
   "cell_type": "code",
   "execution_count": null,
   "id": "7cb26282-5bc4-4fcb-9a9d-dbbea7c5b4a9",
   "metadata": {},
   "outputs": [],
   "source": []
  },
  {
   "cell_type": "code",
   "execution_count": 28,
   "id": "ca9f3ed9-78d4-478c-88b9-af9b615a1463",
   "metadata": {},
   "outputs": [],
   "source": [
    "for i in img_tags:\n",
    "    image_url=i['src']\n",
    "    image_data=requests.get(image_url).content\n",
    "    with open(os.path.join(save_dir,f\"{query}_{img_tags.index(i)}.jpg\"),\"wb\") as f:\n",
    "        f.write(image_data)"
   ]
  },
  {
   "cell_type": "code",
   "execution_count": null,
   "id": "4079130d-af78-4622-977b-b812fb7536e1",
   "metadata": {},
   "outputs": [],
   "source": []
  },
  {
   "cell_type": "code",
   "execution_count": null,
   "id": "c1d16b4b-1591-4744-a38a-05e84288e1fe",
   "metadata": {},
   "outputs": [],
   "source": []
  }
 ],
 "metadata": {
  "kernelspec": {
   "display_name": "Python 3 (ipykernel)",
   "language": "python",
   "name": "python3"
  },
  "language_info": {
   "codemirror_mode": {
    "name": "ipython",
    "version": 3
   },
   "file_extension": ".py",
   "mimetype": "text/x-python",
   "name": "python",
   "nbconvert_exporter": "python",
   "pygments_lexer": "ipython3",
   "version": "3.8.17"
  }
 },
 "nbformat": 4,
 "nbformat_minor": 5
}
